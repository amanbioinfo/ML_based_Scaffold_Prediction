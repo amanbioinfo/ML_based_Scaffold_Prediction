{
 "cells": [
  {
   "cell_type": "code",
   "execution_count": null,
   "id": "df5e747b-3f2e-4800-9237-2d57d6dd896a",
   "metadata": {},
   "outputs": [],
   "source": [
    "import pandas as pd\n",
    "import matplotlib.pyplot as plt\n",
    "\n",
    "# Data load karo\n",
    "data = pd.read_csv('cancer_cell_line_data1.csv', encoding=\"latin1\")\n",
    "\n",
    "# Tissue count nikaalo\n",
    "tissue_counts = data['Tissue'].value_counts()\n",
    "\n",
    "# Total samples kitne hain\n",
    "total = tissue_counts.sum()\n",
    "\n",
    "# Har tissue ka percentage nikaalo\n",
    "percentages = (tissue_counts / total) * 100\n",
    "\n",
    "# Filter karo sirf wahi jinka percentage > 2% ho\n",
    "filtered = tissue_counts[percentages > 2]\n",
    "\n",
    "# Pie chart plot karo\n",
    "plt.figure(figsize=(8,8))\n",
    "plt.pie(filtered, labels=filtered.index, autopct='%1.1f%%', startangle=140)\n",
    "plt.title('Tissue Distribution (%) - Filtered (>2%)')\n",
    "# Save the plot\n",
    "plt.savefig('.png', dpi=300)\n",
    "plt.show()"
   ]
  }
 ],
 "metadata": {
  "kernelspec": {
   "display_name": "Python 3 (ipykernel)",
   "language": "python",
   "name": "python3"
  },
  "language_info": {
   "codemirror_mode": {
    "name": "ipython",
    "version": 3
   },
   "file_extension": ".py",
   "mimetype": "text/x-python",
   "name": "python",
   "nbconvert_exporter": "python",
   "pygments_lexer": "ipython3",
   "version": "3.12.7"
  }
 },
 "nbformat": 4,
 "nbformat_minor": 5
}
